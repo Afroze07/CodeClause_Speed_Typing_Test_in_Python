{
 "cells": [
  {
   "cell_type": "code",
   "execution_count": 1,
   "metadata": {},
   "outputs": [],
   "source": [
    "import time\n",
    "import random"
   ]
  },
  {
   "cell_type": "code",
   "execution_count": 15,
   "metadata": {},
   "outputs": [
    {
     "data": {
      "text/plain": [
       "'Subscribe to AI Sciences'"
      ]
     },
     "execution_count": 15,
     "metadata": {},
     "output_type": "execute_result"
    }
   ],
   "source": [
    "strings = [\"Subscribe to AI Sciences\", \"Hello to python\", \"AI is future\"]\n",
    "random_index = random.randint(0,len(strings)-1)\n",
    "strings[random_index]"
   ]
  },
  {
   "cell_type": "code",
   "execution_count": 19,
   "metadata": {},
   "outputs": [
    {
     "name": "stdout",
     "output_type": "stream",
     "text": [
      "Subscribe to AI Sciences\n",
      "4\n"
     ]
    }
   ],
   "source": [
    "string = strings[random_index]\n",
    "print(string)\n",
    "word_count = len(string.split())\n",
    "print(word_count)"
   ]
  },
  {
   "cell_type": "code",
   "execution_count": 22,
   "metadata": {},
   "outputs": [
    {
     "name": "stdout",
     "output_type": "stream",
     "text": [
      "AI is future\n",
      "Write the sentence: AI is future\n",
      "WPS: 0.5653301440157501 WPM 33.91980864094501 Accuracy: 100.0 Time Taken 5.306633710861206 \n",
      "\n",
      "\n",
      "Subscribe to AI Sciences\n",
      "Write the sentence: 0\n",
      "Take Care\n"
     ]
    }
   ],
   "source": [
    "while True:\n",
    "    random_index = random.randint(0,len(strings)-1)\n",
    "    string = strings[random_index]\n",
    "    word_count = len(string.split())\n",
    "    print(string)\n",
    "    t0 = time.time()\n",
    "    input_text = str(input('Write the sentence: '))\n",
    "    t1 = time.time()\n",
    "    \n",
    "    if input_text == '0':\n",
    "        print(\"Take Care\")\n",
    "        break\n",
    "    \n",
    "    correct_words = len(set(input_text.split())&set(string.split()))\n",
    "    accuracy = correct_words/word_count\n",
    "    time_taken = t1-t0\n",
    "    wps = word_count/time_taken\n",
    "    wpm = word_count/(time_taken/60)\n",
    "    print('WPS:', wps, 'WPM', wpm, \"Accuracy:\", accuracy*100, \"Time Taken\", time_taken,'\\n\\n' )"
   ]
  },
  {
   "cell_type": "code",
   "execution_count": null,
   "metadata": {},
   "outputs": [],
   "source": []
  },
  {
   "cell_type": "code",
   "execution_count": null,
   "metadata": {},
   "outputs": [],
   "source": []
  },
  {
   "cell_type": "code",
   "execution_count": null,
   "metadata": {},
   "outputs": [],
   "source": []
  },
  {
   "cell_type": "code",
   "execution_count": null,
   "metadata": {},
   "outputs": [],
   "source": []
  },
  {
   "cell_type": "code",
   "execution_count": null,
   "metadata": {},
   "outputs": [],
   "source": []
  },
  {
   "cell_type": "code",
   "execution_count": null,
   "metadata": {},
   "outputs": [],
   "source": []
  },
  {
   "cell_type": "code",
   "execution_count": null,
   "metadata": {},
   "outputs": [],
   "source": []
  },
  {
   "cell_type": "code",
   "execution_count": null,
   "metadata": {},
   "outputs": [],
   "source": []
  },
  {
   "cell_type": "code",
   "execution_count": null,
   "metadata": {},
   "outputs": [],
   "source": []
  },
  {
   "cell_type": "code",
   "execution_count": null,
   "metadata": {},
   "outputs": [],
   "source": []
  }
 ],
 "metadata": {
  "kernelspec": {
   "display_name": "Python 3",
   "language": "python",
   "name": "python3"
  },
  "language_info": {
   "codemirror_mode": {
    "name": "ipython",
    "version": 3
   },
   "file_extension": ".py",
   "mimetype": "text/x-python",
   "name": "python",
   "nbconvert_exporter": "python",
   "pygments_lexer": "ipython3",
   "version": "3.8.3"
  }
 },
 "nbformat": 4,
 "nbformat_minor": 4
}
