{
 "cells": [
  {
   "cell_type": "code",
   "execution_count": 1,
   "metadata": {},
   "outputs": [],
   "source": [
    "import time\n",
    "import random"
   ]
  },
  {
   "cell_type": "code",
   "execution_count": 2,
   "metadata": {},
   "outputs": [
    {
     "data": {
      "text/plain": [
       "'This is another sentence where you can test your typing speed'"
      ]
     },
     "execution_count": 2,
     "metadata": {},
     "output_type": "execute_result"
    }
   ],
   "source": [
    "strings = [\"Test your typing speed\", \"Hello to python\", \"This is another sentence where you can test your typing speed\"]\n",
    "random_index = random.randint(0,len(strings)-1)\n",
    "strings[random_index]"
   ]
  },
  {
   "cell_type": "code",
   "execution_count": 3,
   "metadata": {},
   "outputs": [
    {
     "name": "stdout",
     "output_type": "stream",
     "text": [
      "This is another sentence where you can test your typing speed\n",
      "11\n"
     ]
    }
   ],
   "source": [
    "string = strings[random_index]\n",
    "print(string)\n",
    "word_count = len(string.split())\n",
    "print(word_count)"
   ]
  },
  {
   "cell_type": "code",
   "execution_count": null,
   "metadata": {},
   "outputs": [
    {
     "name": "stdout",
     "output_type": "stream",
     "text": [
      "Test your typing speed\n",
      "Write the sentence: Test your typing speed\n",
      "WPS: 0.4027091799060476 WPM 24.162550794362854 Accuracy: 100.0 Time Taken 9.93272614479065 \n",
      "\n",
      "\n",
      "This is another sentence where you can test your typing speed\n"
     ]
    }
   ],
   "source": [
    "while True:\n",
    "    random_index = random.randint(0,len(strings)-1)\n",
    "    string = strings[random_index]\n",
    "    word_count = len(string.split())\n",
    "    print(string)\n",
    "    t0 = time.time()\n",
    "    input_text = str(input('Write the sentence: '))\n",
    "    t1 = time.time()\n",
    "    \n",
    "    if input_text == '0':\n",
    "        print(\"Take Care\")\n",
    "        break\n",
    "    \n",
    "    correct_words = len(set(input_text.split())&set(string.split()))\n",
    "    accuracy = correct_words/word_count\n",
    "    time_taken = t1-t0\n",
    "    wps = word_count/time_taken\n",
    "    wpm = word_count/(time_taken/60)\n",
    "    print('WPS:', wps, 'WPM', wpm, \"Accuracy:\", accuracy*100, \"Time Taken\", time_taken,'\\n\\n' )"
   ]
  },
  {
   "cell_type": "code",
   "execution_count": null,
   "metadata": {},
   "outputs": [],
   "source": []
  },
  {
   "cell_type": "code",
   "execution_count": null,
   "metadata": {},
   "outputs": [],
   "source": []
  },
  {
   "cell_type": "code",
   "execution_count": null,
   "metadata": {},
   "outputs": [],
   "source": []
  },
  {
   "cell_type": "code",
   "execution_count": null,
   "metadata": {},
   "outputs": [],
   "source": []
  },
  {
   "cell_type": "code",
   "execution_count": null,
   "metadata": {},
   "outputs": [],
   "source": []
  },
  {
   "cell_type": "code",
   "execution_count": null,
   "metadata": {},
   "outputs": [],
   "source": []
  },
  {
   "cell_type": "code",
   "execution_count": null,
   "metadata": {},
   "outputs": [],
   "source": []
  },
  {
   "cell_type": "code",
   "execution_count": null,
   "metadata": {},
   "outputs": [],
   "source": []
  },
  {
   "cell_type": "code",
   "execution_count": null,
   "metadata": {},
   "outputs": [],
   "source": []
  },
  {
   "cell_type": "code",
   "execution_count": null,
   "metadata": {},
   "outputs": [],
   "source": []
  }
 ],
 "metadata": {
  "kernelspec": {
   "display_name": "Python 3",
   "language": "python",
   "name": "python3"
  },
  "language_info": {
   "codemirror_mode": {
    "name": "ipython",
    "version": 3
   },
   "file_extension": ".py",
   "mimetype": "text/x-python",
   "name": "python",
   "nbconvert_exporter": "python",
   "pygments_lexer": "ipython3",
   "version": "3.8.8"
  }
 },
 "nbformat": 4,
 "nbformat_minor": 4
}
